{
 "cells": [
  {
   "cell_type": "code",
   "execution_count": 1,
   "metadata": {},
   "outputs": [],
   "source": [
    "import collections.abc\n",
    "collections.Mapping = collections.abc.Mapping\n",
    "# Import the experta library for building the expert system\n",
    "from experta import Fact, Rule, KnowledgeEngine, W, NOT"
   ]
  },
  {
   "cell_type": "code",
   "execution_count": 3,
   "metadata": {},
   "outputs": [
    {
     "name": "stdout",
     "output_type": "stream",
     "text": [
      "Welcome to the Ammunation Store!\n",
      "Enter your shopping preferences one by one. Type 'done' when finished.\n",
      "Examples: 'pref handgun', 'price high', 'reload fast reload', 'damage high damage', 'range far range'.\n",
      "Our Recommendation is a Handgun.\n"
     ]
    }
   ],
   "source": [
    "class Salesman(KnowledgeEngine):\n",
    "    \n",
    "    @Rule(Fact(pref=\"handgun\"), Fact(price=\"medium\"), Fact(reload=\"fast\"), \n",
    "          Fact(damage=\"medium\"), Fact(range=\"short\"))\n",
    "    def recommend_handgun(self):\n",
    "        print(\"Our Recommendation is a Handgun.\")\n",
    "\n",
    "    @Rule(Fact(pref=\"shotgun\"), Fact(price=\"high\"), Fact(reload=\"slow\"), \n",
    "          Fact(damage=\"high\"), Fact(range=\"short\"))\n",
    "    def recommend_shotgun(self):\n",
    "        print(\"Our Recommendation is a Shotgun.\")\n",
    "\n",
    "    @Rule(Fact(pref=\"rifle\"), Fact(price=\"high\"), Fact(reload=\"medium\"), \n",
    "          Fact(damage=\"high\"), Fact(range=\"far\"))\n",
    "    def recommend_rifle(self):\n",
    "        print(\"Our Recommendation is a Rifle.\")\n",
    "\n",
    "    @Rule(NOT(Fact(pref=W())), salience=-1)\n",
    "    def no_stats(self):\n",
    "        print(\"None of our items match your description.\")\n",
    "\n",
    "# Create the engine\n",
    "engine = Salesman()\n",
    "engine.reset()  # Reset to clear any previous state\n",
    "\n",
    "# Prompt the user to enter their preferences\n",
    "print(\"Welcome to the Ammunation Store!\")\n",
    "print(\"Enter your shopping preferences one by one. Type 'done' when finished.\")\n",
    "print(\"Examples: 'pref handgun', 'price high', 'reload fast reload', 'damage high damage', 'range far range'.\")\n",
    "\n",
    "# Collect user input\n",
    "while True:\n",
    "    stat = input(\"Preference: \").strip().lower()\n",
    "    if stat == \"done\":\n",
    "        break\n",
    "    parts = stat.split(\" \", 1)  # Split into at most 2 parts\n",
    "    if len(parts) == 2:\n",
    "        key, value = parts\n",
    "        engine.declare(Fact(**{key: value}))\n",
    "        #more logic needed for allowing descriptions in any order and any description\n",
    "        \n",
    "    else:\n",
    "        print(\"Invalid input. Use format: 'category value' (e.g., 'price high').\")\n",
    "\n",
    "# Run the engine\n",
    "engine.run()"
   ]
  }
 ],
 "metadata": {
  "kernelspec": {
   "display_name": "Python 3",
   "language": "python",
   "name": "python3"
  },
  "language_info": {
   "codemirror_mode": {
    "name": "ipython",
    "version": 3
   },
   "file_extension": ".py",
   "mimetype": "text/x-python",
   "name": "python",
   "nbconvert_exporter": "python",
   "pygments_lexer": "ipython3",
   "version": "3.12.4"
  },
  "orig_nbformat": 4
 },
 "nbformat": 4,
 "nbformat_minor": 2
}
