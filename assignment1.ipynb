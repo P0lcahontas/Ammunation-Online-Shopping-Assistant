{
 "cells": [
  {
   "cell_type": "code",
   "execution_count": 2,
   "metadata": {},
   "outputs": [],
   "source": [
    "import collections.abc\n",
    "collections.Mapping = collections.abc.Mapping\n",
    "# Import the experta library for building the expert system\n",
    "from experta import Fact, Rule, KnowledgeEngine, W, NOT"
   ]
  },
  {
   "cell_type": "code",
   "execution_count": 4,
   "metadata": {},
   "outputs": [
    {
     "name": "stdout",
     "output_type": "stream",
     "text": [
      "Welcome to the Ammunation Store!\n"
     ]
    },
    {
     "name": "stdout",
     "output_type": "stream",
     "text": [
      "Our Recommendation is a Bolt Action Rifle.\n"
     ]
    }
   ],
   "source": [
    "class Salesman(KnowledgeEngine):\n",
    "\n",
    "    @Rule(Fact(pref=\"handgun\"), Fact(price=\"low\"), Fact(reload=\"fast\"), \n",
    "          Fact(damage=\"medium\"), Fact(range=\"short\"))\n",
    "    def recommend_handgun(self):\n",
    "        print(\"Our Recommendation is a Glock 9.\")\n",
    "\n",
    "    @Rule(Fact(pref=\"handgun\"), Fact(price=\"medium\"), Fact(reload=\"slow\"), \n",
    "          Fact(damage=\"high\"), Fact(range=\"short\"))\n",
    "    def recommend_handgun(self):\n",
    "        print(\"Our Recommendation is a Sawed-off Shotgun.\")  \n",
    "\n",
    "    @Rule(Fact(pref=\"handgun\"), Fact(price=\"high\"), Fact(reload=\"medium\"), \n",
    "          Fact(damage=\"high\"), Fact(range=\"far\"))\n",
    "    def recommend_handgun(self):\n",
    "        print(\"Our Recommendation is a Desert Eagle.\")\n",
    "\n",
    "    @Rule(Fact(pref=\"shotgun\"), Fact(price=\"high\"), Fact(reload=\"slow\"), \n",
    "          Fact(damage=\"high\"), Fact(range=\"short\"))\n",
    "    def recommend_shotgun(self):\n",
    "        print(\"Our Recommendation is a Pump Shotgun.\")\n",
    "\n",
    "    @Rule(Fact(pref=\"rifle\"), Fact(price=\"medium\"), Fact(reload=\"medium\"), \n",
    "          Fact(damage=\"medium\"), Fact(range=\"far\"))\n",
    "    def recommend_rifle(self):\n",
    "        print(\"Our Recommendation is a Hunting Rifle.\")\n",
    "\n",
    "    @Rule(Fact(pref=\"rifle\"), Fact(price=\"high\"), Fact(reload=\"medium\"), \n",
    "          Fact(damage=\"high\"), Fact(range=\"far\"))\n",
    "    def recommend_handgun(self):\n",
    "        print(\"Our Recommendation is a Bolt Action Rifle.\")\n",
    "\n",
    "    @Rule(NOT(Fact(pref=W())), salience=-1)\n",
    "    def no_stats(self):\n",
    "        print(\"None of our items match your description.\")\n",
    "\n",
    "# Create the engine\n",
    "engine = Salesman()\n",
    "engine.reset()  # Reset to clear any previous state\n",
    "\n",
    "dict = {}\n",
    "\n",
    "# Prompt the user to enter their preferences\n",
    "print(\"Welcome to the Ammunation Store!\")\n",
    "\n",
    "\n",
    "pref=input(\"What is your preferred gun type?(handgun,shotgun,rifle)\")\n",
    "dict[\"pref\"]=pref.lower().strip()\n",
    "price=input(\"What is your price range?(low,medium,high)\")\n",
    "dict[\"price\"]=price.lower().strip()\n",
    "reload=input(\"What is your desired reload speed?(slow,medium,fast)\")\n",
    "dict[\"reload\"]=reload.lower().strip()\n",
    "damage=input(\"What is your desired damage?(low,medium,high)\")\n",
    "dict[\"damage\"]=damage.lower().strip()\n",
    "range=input(\"what is your desired range?(short,medium,far)\")\n",
    "dict[\"range\"]=range.lower().strip()\n",
    "\n",
    "\n",
    "for x, y in dict.items():\n",
    "  engine.declare(Fact(**{x: y}))\n",
    "# # Collect user input\n",
    "# while True:\n",
    "#     stat = input(\"Preference: \").strip().lower()\n",
    "#     if stat == \"done\":\n",
    "#         break\n",
    "#     key, _, value = stat.partition(\" \")\n",
    "#     if value:\n",
    "#         engine.declare(Fact(**{key: value}))\n",
    "#     else:\n",
    "#         print(\"Invalid input. Use format: 'category value' (e.g., 'price high')\")\n",
    "\n",
    "# Run the engine\n",
    "engine.run()\n"
   ]
  }
 ],
 "metadata": {
  "kernelspec": {
   "display_name": "env",
   "language": "python",
   "name": "python3"
  },
  "language_info": {
   "codemirror_mode": {
    "name": "ipython",
    "version": 3
   },
   "file_extension": ".py",
   "mimetype": "text/x-python",
   "name": "python",
   "nbconvert_exporter": "python",
   "pygments_lexer": "ipython3",
   "version": "3.12.4"
  },
  "orig_nbformat": 4
 },
 "nbformat": 4,
 "nbformat_minor": 2
}
